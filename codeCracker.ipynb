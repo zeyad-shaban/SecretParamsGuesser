{
 "cells": [
  {
   "cell_type": "code",
   "execution_count": 120,
   "metadata": {},
   "outputs": [],
   "source": [
    "import torch\n",
    "import torch.optim as optim\n",
    "import numpy as np\n",
    "import pandas as pd\n",
    "import matplotlib.pyplot as plt\n",
    "import math"
   ]
  },
  {
   "cell_type": "code",
   "execution_count": 121,
   "metadata": {},
   "outputs": [],
   "source": [
    "data = pd.read_csv(\"./samples.csv\", usecols=[\"decoded\",\"encoded\"])\n",
    "decoded_t = torch.tensor(data['decoded'].values)\n",
    "encoded_t = torch.tensor(data['encoded'].values)"
   ]
  },
  {
   "cell_type": "code",
   "execution_count": 122,
   "metadata": {},
   "outputs": [],
   "source": [
    "def model(x: torch.Tensor, w1: torch.Tensor, w2: torch.Tensor, b: torch.Tensor):\n",
    "    return w1 * x**2 + w2*x + b\n",
    "\n",
    "def lossFn(y: torch.Tensor, y_pred: torch.Tensor):\n",
    "    return ((y - y_pred)**2).mean()"
   ]
  },
  {
   "cell_type": "code",
   "execution_count": 123,
   "metadata": {},
   "outputs": [],
   "source": [
    "threshold = int(0.8 * decoded_t.shape[0])\n",
    "train_decoded = decoded_t[:threshold]\n",
    "train_encoded = encoded_t[:threshold]\n",
    "\n",
    "test_decoded = decoded_t[threshold:]\n",
    "test_encoded = encoded_t[threshold:]"
   ]
  },
  {
   "cell_type": "code",
   "execution_count": 134,
   "metadata": {},
   "outputs": [],
   "source": [
    "def train(params: torch.Tensor, epochs, lr):\n",
    "    bestLoss = float('inf')\n",
    "    bestParams = params.clone()\n",
    "    \n",
    "    optimizer = torch.optim.Adam([params], lr)\n",
    "    for i in range(epochs):\n",
    "        encoded_pred = model(train_decoded, *params)\n",
    "        loss = lossFn(train_encoded, encoded_pred)\n",
    "\n",
    "        if loss.item() < bestLoss:\n",
    "            bestLoss = loss.item()\n",
    "            bestParams = params.clone()\n",
    "\n",
    "\n",
    "        loss.backward()\n",
    "        optimizer.step()\n",
    "        optimizer.zero_grad()\n",
    "\n",
    "        if (i % 700 == 0):\n",
    "            print(loss)\n",
    "    return bestParams"
   ]
  },
  {
   "cell_type": "code",
   "execution_count": 136,
   "metadata": {},
   "outputs": [
    {
     "name": "stdout",
     "output_type": "stream",
     "text": [
      "tensor(5.5895e+08, grad_fn=<MeanBackward0>)\n",
      "tensor(47255.3555, grad_fn=<MeanBackward0>)\n",
      "tensor(37159.0781, grad_fn=<MeanBackward0>)\n",
      "tensor(25283.4648, grad_fn=<MeanBackward0>)\n",
      "tensor(14231.8467, grad_fn=<MeanBackward0>)\n",
      "tensor(6181.8101, grad_fn=<MeanBackward0>)\n",
      "tensor(1879.4508, grad_fn=<MeanBackward0>)\n",
      "tensor(362.5156, grad_fn=<MeanBackward0>)\n",
      "tensor(58.7653, grad_fn=<MeanBackward0>)\n",
      "tensor(28.3419, grad_fn=<MeanBackward0>)\n",
      "tensor(23.4991, grad_fn=<MeanBackward0>)\n",
      "tensor(18.7694, grad_fn=<MeanBackward0>)\n",
      "tensor(13.6434, grad_fn=<MeanBackward0>)\n",
      "tensor(8.6724, grad_fn=<MeanBackward0>)\n",
      "tensor(4.5569, grad_fn=<MeanBackward0>)\n",
      "tensor(1.8257, grad_fn=<MeanBackward0>)\n",
      "tensor(0.4970, grad_fn=<MeanBackward0>)\n",
      "tensor(0.6919, grad_fn=<MeanBackward0>)\n",
      "tensor(101.3288, grad_fn=<MeanBackward0>)\n",
      "tensor(31.4706, grad_fn=<MeanBackward0>)\n",
      "tensor(0.0045, grad_fn=<MeanBackward0>)\n",
      "tensor(0.0167, grad_fn=<MeanBackward0>)\n",
      "tensor(0.4440, grad_fn=<MeanBackward0>)\n",
      "tensor(0.9698, grad_fn=<MeanBackward0>)\n",
      "tensor(0.0613, grad_fn=<MeanBackward0>)\n",
      "tensor(7.7122e-05, grad_fn=<MeanBackward0>)\n",
      "tensor(6.5507e-05, grad_fn=<MeanBackward0>)\n",
      "tensor(6.7069e-08, grad_fn=<MeanBackward0>)\n",
      "tensor(0.0010, grad_fn=<MeanBackward0>)\n"
     ]
    },
    {
     "data": {
      "text/plain": [
       "tensor([ 5.0000, 20.0000, 30.0001], grad_fn=<CloneBackward0>)"
      ]
     },
     "execution_count": 136,
     "metadata": {},
     "output_type": "execute_result"
    }
   ],
   "source": [
    "epochs = 20000\n",
    "lr = 0.1\n",
    "paramsCount = 3\n",
    "params = torch.tensor([0. for _ in range(paramsCount)], requires_grad=True)\n",
    "\n",
    "params = train(params, epochs, lr)\n",
    "params"
   ]
  },
  {
   "cell_type": "code",
   "execution_count": 137,
   "metadata": {},
   "outputs": [
    {
     "data": {
      "text/plain": [
       "[<matplotlib.lines.Line2D at 0x1ebce535160>]"
      ]
     },
     "execution_count": 137,
     "metadata": {},
     "output_type": "execute_result"
    },
    {
     "data": {
      "image/png": "[encoded data removed]",
      "text/plain": [
       "<Figure size 960x720 with 1 Axes>"
      ]
     },
     "metadata": {},
     "output_type": "display_data"
    }
   ],
   "source": [
    "encoded_pred = model(decoded_t, *params).detach()\n",
    "\n",
    "fig = plt.figure(dpi=150)\n",
    "plt.plot(decoded_t, encoded_t, 'o')\n",
    "plt.plot(decoded_t, encoded_pred, 'o')"
   ]
  },
  {
   "cell_type": "code",
   "execution_count": 138,
   "metadata": {},
   "outputs": [
    {
     "data": {
      "text/plain": [
       "tensor(3.2681e-13)"
      ]
     },
     "execution_count": 138,
     "metadata": {},
     "output_type": "execute_result"
    }
   ],
   "source": [
    "def encoded_to_decoded(encoded_pin: torch.Tensor, w1: torch.Tensor, w2: torch.Tensor, b: torch.Tensor):\n",
    "    # Calculate discriminant\n",
    "    discriminant = w2**2 - 4 * w1 * (b - encoded_pin)\n",
    "    \n",
    "    # Check if discriminant is negative\n",
    "    if discriminant >= 0:\n",
    "        sqrt_discriminant = torch.sqrt(discriminant)\n",
    "    else:\n",
    "        sqrt_discriminant = torch.sqrt(discriminant + 0j)  # Add 0j to handle complex numbers\n",
    "    \n",
    "    # Calculate both roots\n",
    "    x1 = (-w2 + sqrt_discriminant) / (2 * w1)\n",
    "    x2 = (-w2 - sqrt_discriminant) / (2 * w1)\n",
    "    \n",
    "    return max(x1.item(), x2.item())\n",
    "\n",
    "    \n",
    "decoded_pred = torch.tensor([encoded_to_decoded(encoded, *params) for encoded in test_encoded])\n",
    "lossFn(test_decoded, decoded_pred)"
   ]
  }
 ],
 "metadata": {
  "kernelspec": {
   "display_name": "Python 3",
   "language": "python",
   "name": "python3"
  },
  "language_info": {
   "codemirror_mode": {
    "name": "ipython",
    "version": 3
   },
   "file_extension": ".py",
   "mimetype": "text/x-python",
   "name": "python",
   "nbconvert_exporter": "python",
   "pygments_lexer": "ipython3",
   "version": "3.12.5"
  }
 },
 "nbformat": 4,
 "nbformat_minor": 2
}
